{
 "cells": [
  {
   "cell_type": "markdown",
   "id": "1a932d88",
   "metadata": {},
   "source": [
    "#                                  Data Science & Business Analytics Internship\n",
    "\n"
   ]
  },
  {
   "cell_type": "markdown",
   "id": "f9ba2776",
   "metadata": {},
   "source": [
    "# Task 6 - Prediction Using Decision Tree Algorithm\n",
    "Level - Intermediate"
   ]
  },
  {
   "cell_type": "markdown",
   "id": "ba6f1c93",
   "metadata": {},
   "source": [
    "Step 1: IMPORT THE ESSENTIAL PYTHON LIBRARIES FOR ANALYSIS"
   ]
  },
  {
   "cell_type": "code",
   "execution_count": 44,
   "id": "ce93c354",
   "metadata": {},
   "outputs": [],
   "source": [
    "import pandas as pd\n",
    "import numpy as np"
   ]
  },
  {
   "cell_type": "markdown",
   "id": "97a3a448",
   "metadata": {},
   "source": [
    "Step 2:IMPORTING THE DATASET FROM GIVEN LINK"
   ]
  },
  {
   "cell_type": "code",
   "execution_count": 45,
   "id": "04008736",
   "metadata": {},
   "outputs": [],
   "source": [
    "iris = pd.read_csv(\"C:\\\\Users\\\\balaj\\\\Downloads\\\\Iris.csv\")"
   ]
  },
  {
   "cell_type": "markdown",
   "id": "80bee8a2",
   "metadata": {},
   "source": [
    "Step 3: DATA PREPARATION FOR ANALYSIS - INITIAL DATA EXPLORATION - CHECKING FOR MISSING VALUES/ERRORS "
   ]
  },
  {
   "cell_type": "code",
   "execution_count": 46,
   "id": "c8de0977",
   "metadata": {},
   "outputs": [
    {
     "data": {
      "text/html": [
       "<div>\n",
       "<style scoped>\n",
       "    .dataframe tbody tr th:only-of-type {\n",
       "        vertical-align: middle;\n",
       "    }\n",
       "\n",
       "    .dataframe tbody tr th {\n",
       "        vertical-align: top;\n",
       "    }\n",
       "\n",
       "    .dataframe thead th {\n",
       "        text-align: right;\n",
       "    }\n",
       "</style>\n",
       "<table border=\"1\" class=\"dataframe\">\n",
       "  <thead>\n",
       "    <tr style=\"text-align: right;\">\n",
       "      <th></th>\n",
       "      <th>Id</th>\n",
       "      <th>SepalLengthCm</th>\n",
       "      <th>SepalWidthCm</th>\n",
       "      <th>PetalLengthCm</th>\n",
       "      <th>PetalWidthCm</th>\n",
       "      <th>Species</th>\n",
       "    </tr>\n",
       "  </thead>\n",
       "  <tbody>\n",
       "    <tr>\n",
       "      <th>0</th>\n",
       "      <td>1</td>\n",
       "      <td>5.1</td>\n",
       "      <td>3.5</td>\n",
       "      <td>1.4</td>\n",
       "      <td>0.2</td>\n",
       "      <td>Iris-setosa</td>\n",
       "    </tr>\n",
       "    <tr>\n",
       "      <th>1</th>\n",
       "      <td>2</td>\n",
       "      <td>4.9</td>\n",
       "      <td>3.0</td>\n",
       "      <td>1.4</td>\n",
       "      <td>0.2</td>\n",
       "      <td>Iris-setosa</td>\n",
       "    </tr>\n",
       "    <tr>\n",
       "      <th>2</th>\n",
       "      <td>3</td>\n",
       "      <td>4.7</td>\n",
       "      <td>3.2</td>\n",
       "      <td>1.3</td>\n",
       "      <td>0.2</td>\n",
       "      <td>Iris-setosa</td>\n",
       "    </tr>\n",
       "    <tr>\n",
       "      <th>3</th>\n",
       "      <td>4</td>\n",
       "      <td>4.6</td>\n",
       "      <td>3.1</td>\n",
       "      <td>1.5</td>\n",
       "      <td>0.2</td>\n",
       "      <td>Iris-setosa</td>\n",
       "    </tr>\n",
       "    <tr>\n",
       "      <th>4</th>\n",
       "      <td>5</td>\n",
       "      <td>5.0</td>\n",
       "      <td>3.6</td>\n",
       "      <td>1.4</td>\n",
       "      <td>0.2</td>\n",
       "      <td>Iris-setosa</td>\n",
       "    </tr>\n",
       "    <tr>\n",
       "      <th>5</th>\n",
       "      <td>6</td>\n",
       "      <td>5.4</td>\n",
       "      <td>3.9</td>\n",
       "      <td>1.7</td>\n",
       "      <td>0.4</td>\n",
       "      <td>Iris-setosa</td>\n",
       "    </tr>\n",
       "    <tr>\n",
       "      <th>6</th>\n",
       "      <td>7</td>\n",
       "      <td>4.6</td>\n",
       "      <td>3.4</td>\n",
       "      <td>1.4</td>\n",
       "      <td>0.3</td>\n",
       "      <td>Iris-setosa</td>\n",
       "    </tr>\n",
       "    <tr>\n",
       "      <th>7</th>\n",
       "      <td>8</td>\n",
       "      <td>5.0</td>\n",
       "      <td>3.4</td>\n",
       "      <td>1.5</td>\n",
       "      <td>0.2</td>\n",
       "      <td>Iris-setosa</td>\n",
       "    </tr>\n",
       "    <tr>\n",
       "      <th>8</th>\n",
       "      <td>9</td>\n",
       "      <td>4.4</td>\n",
       "      <td>2.9</td>\n",
       "      <td>1.4</td>\n",
       "      <td>0.2</td>\n",
       "      <td>Iris-setosa</td>\n",
       "    </tr>\n",
       "    <tr>\n",
       "      <th>9</th>\n",
       "      <td>10</td>\n",
       "      <td>4.9</td>\n",
       "      <td>3.1</td>\n",
       "      <td>1.5</td>\n",
       "      <td>0.1</td>\n",
       "      <td>Iris-setosa</td>\n",
       "    </tr>\n",
       "  </tbody>\n",
       "</table>\n",
       "</div>"
      ],
      "text/plain": [
       "   Id  SepalLengthCm  SepalWidthCm  PetalLengthCm  PetalWidthCm      Species\n",
       "0   1            5.1           3.5            1.4           0.2  Iris-setosa\n",
       "1   2            4.9           3.0            1.4           0.2  Iris-setosa\n",
       "2   3            4.7           3.2            1.3           0.2  Iris-setosa\n",
       "3   4            4.6           3.1            1.5           0.2  Iris-setosa\n",
       "4   5            5.0           3.6            1.4           0.2  Iris-setosa\n",
       "5   6            5.4           3.9            1.7           0.4  Iris-setosa\n",
       "6   7            4.6           3.4            1.4           0.3  Iris-setosa\n",
       "7   8            5.0           3.4            1.5           0.2  Iris-setosa\n",
       "8   9            4.4           2.9            1.4           0.2  Iris-setosa\n",
       "9  10            4.9           3.1            1.5           0.1  Iris-setosa"
      ]
     },
     "execution_count": 46,
     "metadata": {},
     "output_type": "execute_result"
    }
   ],
   "source": [
    "iris.head(10)"
   ]
  },
  {
   "cell_type": "code",
   "execution_count": 47,
   "id": "cb400557",
   "metadata": {},
   "outputs": [
    {
     "data": {
      "text/plain": [
       "array(['Id', 'SepalLengthCm', 'SepalWidthCm', 'PetalLengthCm',\n",
       "       'PetalWidthCm', 'Species'], dtype=object)"
      ]
     },
     "execution_count": 47,
     "metadata": {},
     "output_type": "execute_result"
    }
   ],
   "source": [
    "iris.columns.values"
   ]
  },
  {
   "cell_type": "code",
   "execution_count": 48,
   "id": "95993615",
   "metadata": {},
   "outputs": [],
   "source": [
    "# Checking for data types of columns and missing values - none found"
   ]
  },
  {
   "cell_type": "code",
   "execution_count": 49,
   "id": "784fa760",
   "metadata": {},
   "outputs": [
    {
     "name": "stdout",
     "output_type": "stream",
     "text": [
      "<class 'pandas.core.frame.DataFrame'>\n",
      "RangeIndex: 150 entries, 0 to 149\n",
      "Data columns (total 6 columns):\n",
      " #   Column         Non-Null Count  Dtype  \n",
      "---  ------         --------------  -----  \n",
      " 0   Id             150 non-null    int64  \n",
      " 1   SepalLengthCm  150 non-null    float64\n",
      " 2   SepalWidthCm   150 non-null    float64\n",
      " 3   PetalLengthCm  150 non-null    float64\n",
      " 4   PetalWidthCm   150 non-null    float64\n",
      " 5   Species        150 non-null    object \n",
      "dtypes: float64(4), int64(1), object(1)\n",
      "memory usage: 7.2+ KB\n"
     ]
    }
   ],
   "source": [
    "iris.info()"
   ]
  },
  {
   "cell_type": "code",
   "execution_count": 50,
   "id": "ed8e60e7",
   "metadata": {},
   "outputs": [],
   "source": [
    "# Id is a unique identifier column so it is not useful in analysis. Therefore dropping it"
   ]
  },
  {
   "cell_type": "code",
   "execution_count": 51,
   "id": "556d7447",
   "metadata": {},
   "outputs": [],
   "source": [
    "iris = iris.drop(columns = ['Id'],axis = 1)"
   ]
  },
  {
   "cell_type": "markdown",
   "id": "016310b9",
   "metadata": {},
   "source": [
    "Step 4 : EXPLORATORY DATA ANALYSIS - CHECKING FOR OVERALL DATA INTEGRITY"
   ]
  },
  {
   "cell_type": "code",
   "execution_count": 52,
   "id": "8cb99e52",
   "metadata": {},
   "outputs": [
    {
     "data": {
      "text/plain": [
       "<AxesSubplot:xlabel='SepalLengthCm', ylabel='Species'>"
      ]
     },
     "execution_count": 52,
     "metadata": {},
     "output_type": "execute_result"
    },
    {
     "data": {
      "image/png": "[encoded data removed]",
      "text/plain": [
       "<Figure size 432x288 with 1 Axes>"
      ]
     },
     "metadata": {
      "needs_background": "light"
     },
     "output_type": "display_data"
    }
   ],
   "source": [
    "iris.plot(kind =\"scatter\",\n",
    "          x ='SepalLengthCm',\n",
    "          y ='Species')"
   ]
  },
  {
   "cell_type": "code",
   "execution_count": 53,
   "id": "eeb4f959",
   "metadata": {},
   "outputs": [
    {
     "data": {
      "text/plain": [
       "<AxesSubplot:xlabel='PetalLengthCm', ylabel='Species'>"
      ]
     },
     "execution_count": 53,
     "metadata": {},
     "output_type": "execute_result"
    },
    {
     "data": {
      "image/png": "[encoded data removed]",
      "text/plain": [
       "<Figure size 432x288 with 1 Axes>"
      ]
     },
     "metadata": {
      "needs_background": "light"
     },
     "output_type": "display_data"
    }
   ],
   "source": [
    "iris.plot(kind =\"scatter\",\n",
    "          x ='PetalLengthCm',\n",
    "          y ='Species')"
   ]
  },
  {
   "cell_type": "code",
   "execution_count": 54,
   "id": "70750844",
   "metadata": {},
   "outputs": [
    {
     "data": {
      "text/plain": [
       "<AxesSubplot:xlabel='SepalWidthCm', ylabel='Species'>"
      ]
     },
     "execution_count": 54,
     "metadata": {},
     "output_type": "execute_result"
    },
    {
     "data": {
      "image/png": "[encoded data removed]",
      "text/plain": [
       "<Figure size 432x288 with 1 Axes>"
      ]
     },
     "metadata": {
      "needs_background": "light"
     },
     "output_type": "display_data"
    }
   ],
   "source": [
    "iris.plot(kind =\"scatter\",\n",
    "          x ='SepalWidthCm',\n",
    "          y ='Species')"
   ]
  },
  {
   "cell_type": "code",
   "execution_count": 55,
   "id": "b97f3b5c",
   "metadata": {},
   "outputs": [
    {
     "data": {
      "text/plain": [
       "<AxesSubplot:xlabel='PetalWidthCm', ylabel='Species'>"
      ]
     },
     "execution_count": 55,
     "metadata": {},
     "output_type": "execute_result"
    },
    {
     "data": {
      "image/png": "[encoded data removed]",
      "text/plain": [
       "<Figure size 432x288 with 1 Axes>"
      ]
     },
     "metadata": {
      "needs_background": "light"
     },
     "output_type": "display_data"
    }
   ],
   "source": [
    "iris.plot(kind =\"scatter\",\n",
    "          x ='PetalWidthCm',\n",
    "          y ='Species')"
   ]
  },
  {
   "cell_type": "markdown",
   "id": "aab13872",
   "metadata": {},
   "source": [
    "Step 5 : PERFORMING TRAIN TEST SPLIT TO GET TRAINING & TEST DATA"
   ]
  },
  {
   "cell_type": "code",
   "execution_count": 56,
   "id": "252c10b3",
   "metadata": {},
   "outputs": [],
   "source": [
    "from sklearn.model_selection import train_test_split"
   ]
  },
  {
   "cell_type": "code",
   "execution_count": 57,
   "id": "e5547430",
   "metadata": {},
   "outputs": [],
   "source": [
    "# THe first sub step to do is to define X, the independent variables an Y the dependent variable . \n",
    "#Here Our task is to predict the variable Species using the predictor. \n",
    "#So Species column data is set to y and the remaining columns become X or the predictors "
   ]
  },
  {
   "cell_type": "code",
   "execution_count": 58,
   "id": "1320f854",
   "metadata": {},
   "outputs": [],
   "source": [
    "X = iris[['SepalLengthCm','SepalWidthCm','PetalLengthCm','PetalWidthCm']]\n",
    "y = iris['Species']"
   ]
  },
  {
   "cell_type": "code",
   "execution_count": 59,
   "id": "03f803d3",
   "metadata": {},
   "outputs": [],
   "source": [
    "# In the train test split step stratify option tells sklearn to split the dataset into test and training set in such a \n",
    "#fashion that the ratio of class labels in the variable specified (y in this case) is constant. \n",
    "#This is helpful in achieving fair split when data is imbalanced."
   ]
  },
  {
   "cell_type": "code",
   "execution_count": 60,
   "id": "c5901667",
   "metadata": {},
   "outputs": [],
   "source": [
    "X_train,X_test,Y_train,Y_test = train_test_split(X,y,stratify=y,test_size = 0.2,random_state = 1)"
   ]
  },
  {
   "cell_type": "code",
   "execution_count": 61,
   "id": "22e13d27",
   "metadata": {},
   "outputs": [],
   "source": [
    "# We check the shape of each split to verify if everything is done as required. X_train & Y_train belong to the training dataset.\n",
    "# X_test & Y_test belong to the validation set. In a validation set we know the actual dependent varaible values.\n",
    "# We will use X_test to predict the value of the dependent variable then compare our prediction with the actual values saved as Y_test."
   ]
  },
  {
   "cell_type": "code",
   "execution_count": 62,
   "id": "7ba83ef1",
   "metadata": {},
   "outputs": [
    {
     "data": {
      "text/plain": [
       "(120, 4)"
      ]
     },
     "execution_count": 62,
     "metadata": {},
     "output_type": "execute_result"
    }
   ],
   "source": [
    "X_train.shape"
   ]
  },
  {
   "cell_type": "code",
   "execution_count": 63,
   "id": "804fd510",
   "metadata": {},
   "outputs": [
    {
     "data": {
      "text/plain": [
       "(120,)"
      ]
     },
     "execution_count": 63,
     "metadata": {},
     "output_type": "execute_result"
    }
   ],
   "source": [
    "Y_train.shape"
   ]
  },
  {
   "cell_type": "code",
   "execution_count": 64,
   "id": "2db7bb09",
   "metadata": {},
   "outputs": [
    {
     "data": {
      "text/plain": [
       "(30, 4)"
      ]
     },
     "execution_count": 64,
     "metadata": {},
     "output_type": "execute_result"
    }
   ],
   "source": [
    "X_test.shape"
   ]
  },
  {
   "cell_type": "code",
   "execution_count": 65,
   "id": "ee0dd232",
   "metadata": {},
   "outputs": [
    {
     "data": {
      "text/plain": [
       "(30,)"
      ]
     },
     "execution_count": 65,
     "metadata": {},
     "output_type": "execute_result"
    }
   ],
   "source": [
    "Y_test.shape"
   ]
  },
  {
   "cell_type": "markdown",
   "id": "16f0a1c4",
   "metadata": {},
   "source": [
    "Step 6 : IMPORTING AND DEFINING DECISION TREE CLASSIFIER ACCORDING TO THE REQUIREMENT."
   ]
  },
  {
   "cell_type": "code",
   "execution_count": 66,
   "id": "591a92b2",
   "metadata": {},
   "outputs": [],
   "source": [
    "from sklearn.tree import DecisionTreeClassifier"
   ]
  },
  {
   "cell_type": "code",
   "execution_count": 67,
   "id": "a3b1e727",
   "metadata": {},
   "outputs": [],
   "source": [
    "clf = DecisionTreeClassifier(random_state = 0)"
   ]
  },
  {
   "cell_type": "code",
   "execution_count": 68,
   "id": "cd94b414",
   "metadata": {},
   "outputs": [],
   "source": [
    "# Model fit step in which the training data is used for buildin gthe model"
   ]
  },
  {
   "cell_type": "code",
   "execution_count": 69,
   "id": "01f3b0e7",
   "metadata": {},
   "outputs": [],
   "source": [
    "model = clf.fit(X_train,Y_train)"
   ]
  },
  {
   "cell_type": "code",
   "execution_count": 70,
   "id": "20a24e8c",
   "metadata": {},
   "outputs": [],
   "source": [
    "from sklearn import tree"
   ]
  },
  {
   "cell_type": "code",
   "execution_count": 71,
   "id": "fd049acf",
   "metadata": {},
   "outputs": [
    {
     "data": {
      "text/plain": [
       "[Text(100.44000000000001, 201.90857142857143, 'X[3] <= 0.75\\ngini = 0.667\\nsamples = 120\\nvalue = [40, 40, 40]'),\n",
       " Text(66.96000000000001, 170.84571428571428, 'gini = 0.0\\nsamples = 40\\nvalue = [40, 0, 0]'),\n",
       " Text(133.92000000000002, 170.84571428571428, 'X[2] <= 4.75\\ngini = 0.5\\nsamples = 80\\nvalue = [0, 40, 40]'),\n",
       " Text(100.44000000000001, 139.78285714285715, 'gini = 0.0\\nsamples = 35\\nvalue = [0, 35, 0]'),\n",
       " Text(167.40000000000003, 139.78285714285715, 'X[3] <= 1.75\\ngini = 0.198\\nsamples = 45\\nvalue = [0, 5, 40]'),\n",
       " Text(66.96000000000001, 108.72, 'X[2] <= 4.95\\ngini = 0.5\\nsamples = 8\\nvalue = [0, 4, 4]'),\n",
       " Text(33.480000000000004, 77.65714285714284, 'gini = 0.0\\nsamples = 2\\nvalue = [0, 2, 0]'),\n",
       " Text(100.44000000000001, 77.65714285714284, 'X[3] <= 1.55\\ngini = 0.444\\nsamples = 6\\nvalue = [0, 2, 4]'),\n",
       " Text(66.96000000000001, 46.59428571428572, 'gini = 0.0\\nsamples = 3\\nvalue = [0, 0, 3]'),\n",
       " Text(133.92000000000002, 46.59428571428572, 'X[2] <= 5.45\\ngini = 0.444\\nsamples = 3\\nvalue = [0, 2, 1]'),\n",
       " Text(100.44000000000001, 15.531428571428563, 'gini = 0.0\\nsamples = 2\\nvalue = [0, 2, 0]'),\n",
       " Text(167.40000000000003, 15.531428571428563, 'gini = 0.0\\nsamples = 1\\nvalue = [0, 0, 1]'),\n",
       " Text(267.84000000000003, 108.72, 'X[2] <= 4.85\\ngini = 0.053\\nsamples = 37\\nvalue = [0, 1, 36]'),\n",
       " Text(234.36, 77.65714285714284, 'X[1] <= 3.1\\ngini = 0.444\\nsamples = 3\\nvalue = [0, 1, 2]'),\n",
       " Text(200.88000000000002, 46.59428571428572, 'gini = 0.0\\nsamples = 2\\nvalue = [0, 0, 2]'),\n",
       " Text(267.84000000000003, 46.59428571428572, 'gini = 0.0\\nsamples = 1\\nvalue = [0, 1, 0]'),\n",
       " Text(301.32000000000005, 77.65714285714284, 'gini = 0.0\\nsamples = 34\\nvalue = [0, 0, 34]')]"
      ]
     },
     "execution_count": 71,
     "metadata": {},
     "output_type": "execute_result"
    },
    {
     "data": {
      "image/png": "[encoded data removed]",
      "text/plain": [
       "<Figure size 432x288 with 1 Axes>"
      ]
     },
     "metadata": {
      "needs_background": "light"
     },
     "output_type": "display_data"
    }
   ],
   "source": [
    "tree.plot_tree(clf,fontsize = 6)\n"
   ]
  },
  {
   "cell_type": "code",
   "execution_count": 72,
   "id": "27c29fa3",
   "metadata": {},
   "outputs": [],
   "source": [
    "# We use the validation data X_test (which contains only the predictors and not the dependent variable) \n",
    "# to predict the dependent variable using the model which we built(Decision tree classifier).\n",
    "# THe predicted value is stored in the variable \"predicted\""
   ]
  },
  {
   "cell_type": "code",
   "execution_count": 73,
   "id": "3d578017",
   "metadata": {},
   "outputs": [],
   "source": [
    "predicted = model.predict(X_test)"
   ]
  },
  {
   "cell_type": "code",
   "execution_count": 74,
   "id": "ffb45783",
   "metadata": {},
   "outputs": [
    {
     "name": "stdout",
     "output_type": "stream",
     "text": [
      "['Iris-virginica' 'Iris-setosa' 'Iris-versicolor' 'Iris-setosa'\n",
      " 'Iris-setosa' 'Iris-setosa' 'Iris-virginica' 'Iris-virginica'\n",
      " 'Iris-virginica' 'Iris-versicolor' 'Iris-setosa' 'Iris-versicolor'\n",
      " 'Iris-virginica' 'Iris-versicolor' 'Iris-virginica' 'Iris-setosa'\n",
      " 'Iris-virginica' 'Iris-versicolor' 'Iris-versicolor' 'Iris-virginica'\n",
      " 'Iris-versicolor' 'Iris-versicolor' 'Iris-setosa' 'Iris-setosa'\n",
      " 'Iris-virginica' 'Iris-versicolor' 'Iris-setosa' 'Iris-setosa'\n",
      " 'Iris-versicolor' 'Iris-versicolor']\n"
     ]
    }
   ],
   "source": [
    "print(predicted)"
   ]
  },
  {
   "cell_type": "markdown",
   "id": "68bbc739",
   "metadata": {},
   "source": [
    "Step 6 :EVALUATION METRICS - MODEL ACCURACY - Type 1 Confusion matrix & Classification Metrics"
   ]
  },
  {
   "cell_type": "code",
   "execution_count": 75,
   "id": "f6dbf531",
   "metadata": {},
   "outputs": [],
   "source": [
    "# Next  step is to find out how well our model has performed. We will be using various evaluation metrics as below.\n",
    "# All these metrics are the ones used for classification problems."
   ]
  },
  {
   "cell_type": "code",
   "execution_count": 76,
   "id": "d84404aa",
   "metadata": {},
   "outputs": [],
   "source": [
    "# First is classification report which gives a consolidated report of all metrics involved in evaluation of classfication problem"
   ]
  },
  {
   "cell_type": "code",
   "execution_count": 77,
   "id": "a6188e8b",
   "metadata": {},
   "outputs": [],
   "source": [
    "from sklearn.metrics import classification_report"
   ]
  },
  {
   "cell_type": "code",
   "execution_count": 78,
   "id": "5ccdafcb",
   "metadata": {},
   "outputs": [],
   "source": [
    "# The metrics are defined as below\n",
    "#1. Precision - ability of a classification model to return only relevant instances \n",
    "# - given by True Positive/(True Positive + False Positive)\n",
    "\n",
    "#2. Recall - ability of a classification model to identify all relevant instances \n",
    "# - given  by True Positive/(True Positive + False Negative)\n",
    "\n",
    "#3. f1-score - single metric that combines recall and precision using the harmonic mean\n",
    "# - given by 2(Precision * Recall)/(Precision +Recall)\n",
    "\n",
    "#4. Accuracy - The ratio of total number of observations which have been predicted correctly to the total number of observation\n",
    "# - given by (True positives + True Negatives)/ (True positives + True negatives + False positives + False negatives)\n",
    "\n",
    "# Note - a perfect classifier has precision and recall & f1-score equal to 1."
   ]
  },
  {
   "cell_type": "code",
   "execution_count": 79,
   "id": "c22778d7",
   "metadata": {},
   "outputs": [
    {
     "name": "stdout",
     "output_type": "stream",
     "text": [
      "                 precision    recall  f1-score   support\n",
      "\n",
      "    Iris-setosa       1.00      1.00      1.00        10\n",
      "Iris-versicolor       1.00      0.91      0.95        11\n",
      " Iris-virginica       0.90      1.00      0.95         9\n",
      "\n",
      "       accuracy                           0.97        30\n",
      "      macro avg       0.97      0.97      0.97        30\n",
      "   weighted avg       0.97      0.97      0.97        30\n",
      "\n"
     ]
    }
   ],
   "source": [
    "print(classification_report(predicted,Y_test))"
   ]
  },
  {
   "cell_type": "code",
   "execution_count": 80,
   "id": "f6c6e049",
   "metadata": {},
   "outputs": [],
   "source": [
    "# The confusion matrix which has been used to obtain the above metrics is obtained as below for each  Species of Iris"
   ]
  },
  {
   "cell_type": "code",
   "execution_count": 81,
   "id": "7d6a53e5",
   "metadata": {},
   "outputs": [],
   "source": [
    "from sklearn.metrics import multilabel_confusion_matrix"
   ]
  },
  {
   "cell_type": "code",
   "execution_count": 82,
   "id": "60d2d9c4",
   "metadata": {},
   "outputs": [
    {
     "name": "stdout",
     "output_type": "stream",
     "text": [
      "[[[20  0]\n",
      "  [ 0 10]]\n",
      "\n",
      " [[19  1]\n",
      "  [ 0 10]]\n",
      "\n",
      " [[20  0]\n",
      "  [ 1  9]]]\n"
     ]
    }
   ],
   "source": [
    "print(multilabel_confusion_matrix(Y_test,predicted,labels = ['Iris-setosa','Iris-versicolor','Iris-virginica']))"
   ]
  },
  {
   "cell_type": "markdown",
   "id": "c0cc2f31",
   "metadata": {},
   "source": [
    "Step 7 :EVALUATION METRICS - MODEL ACCURACY - K- fold cross validation"
   ]
  },
  {
   "cell_type": "code",
   "execution_count": 83,
   "id": "26d0709c",
   "metadata": {},
   "outputs": [],
   "source": [
    "# K-fold CV corresponds to subdividing the dataset into k folds such that each fold gets the chance to be in both training set \n",
    "# and validation set. So here we set k = 10 so the dataset of 120 records is split into 10 folds each with 12 records. \n",
    "# In the first round 9 folds are used as training data and the 10th fold is used as validation set. This process is done 10 times.\n",
    "# The result of cross_val_score is an array of scores for each run of k-fold cv.\n",
    "# We find that 4 of the cv runs have resulted in 100% accuracy,5 of the cv runs hVE RESULTED IN 91.6% accuracy and 1 cv has resulted in 83.3%"
   ]
  },
  {
   "cell_type": "code",
   "execution_count": 84,
   "id": "cc455ce1",
   "metadata": {},
   "outputs": [],
   "source": [
    "from sklearn.model_selection import cross_val_score"
   ]
  },
  {
   "cell_type": "code",
   "execution_count": 85,
   "id": "98cb3224",
   "metadata": {},
   "outputs": [
    {
     "data": {
      "text/plain": [
       "array([0.91666667, 0.91666667, 1.        , 0.91666667, 1.        ,\n",
       "       0.91666667, 0.83333333, 1.        , 1.        , 0.91666667])"
      ]
     },
     "execution_count": 85,
     "metadata": {},
     "output_type": "execute_result"
    }
   ],
   "source": [
    "cross_val_score(clf,X_train,Y_train,cv=10)"
   ]
  },
  {
   "cell_type": "code",
   "execution_count": 86,
   "id": "12d4e61e",
   "metadata": {},
   "outputs": [],
   "source": [
    "# Hence we conclude the model is functioning well in predicting the Species of the Iris Flower given the SepalLength,PetalLength,SepalWidth & PetalWidth "
   ]
  }
 ],
 "metadata": {
  "kernelspec": {
   "display_name": "Python 3",
   "language": "python",
   "name": "python3"
  },
  "language_info": {
   "codemirror_mode": {
    "name": "ipython",
    "version": 3
   },
   "file_extension": ".py",
   "mimetype": "text/x-python",
   "name": "python",
   "nbconvert_exporter": "python",
   "pygments_lexer": "ipython3",
   "version": "3.8.8"
  }
 },
 "nbformat": 4,
 "nbformat_minor": 5
}
